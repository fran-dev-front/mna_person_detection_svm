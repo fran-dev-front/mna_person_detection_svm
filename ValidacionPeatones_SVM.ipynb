{
  "cells": [
    {
      "cell_type": "markdown",
      "metadata": {
        "id": "nP2TFERHusQ5"
      },
      "source": [
        "# Actividad 3.1 - Detección de Peatones con SVM\n",
        "## Navegación autónoma (Gpo 10)\n",
        "## Alumnos:"
      ]
    },
    {
      "cell_type": "code",
      "execution_count": 199,
      "metadata": {
        "colab": {
          "base_uri": "https://localhost:8080/"
        },
        "id": "aiTfAKhvLLea",
        "outputId": "60cb92ad-794e-452d-88e4-ae937fb248ab"
      },
      "outputs": [],
      "source": [
        "#from google.colab import drive\n",
        "#drive.mount('/content/drive')"
      ]
    },
    {
      "cell_type": "code",
      "execution_count": 200,
      "metadata": {
        "id": "V_QZj8X9Z2X_"
      },
      "outputs": [],
      "source": [
        "import os\n",
        "import cv2\n",
        "import numpy as np\n",
        "from skimage.feature import hog\n",
        "from sklearn.svm import LinearSVC\n",
        "from sklearn.metrics import accuracy_score, precision_score, recall_score, f1_score, confusion_matrix\n",
        "import matplotlib.pyplot as plt\n",
        "import seaborn as sns\n",
        "from sklearn.model_selection import GridSearchCV"
      ]
    },
    {
      "cell_type": "code",
      "execution_count": 201,
      "metadata": {
        "id": "p8AzWVcraTZF"
      },
      "outputs": [],
      "source": [
        "# Función para cargar imágenes desde una carpeta\n",
        "def cargar_imagenes_desde_carpeta(carpeta):\n",
        "    imagenes = []\n",
        "    for nombre_archivo in os.listdir(carpeta):\n",
        "        img = cv2.imread(os.path.join(carpeta, nombre_archivo), cv2.IMREAD_GRAYSCALE)\n",
        "        if img is not None:\n",
        "            imagenes.append(img)\n",
        "    return imagenes"
      ]
    },
    {
      "cell_type": "code",
      "execution_count": 202,
      "metadata": {
        "id": "R4a0N1xabQG8"
      },
      "outputs": [],
      "source": [
        "# Función para extraer características HOG\n",
        "def extraer_caracteristicas_hog(imagenes):\n",
        "    caracteristicas = []\n",
        "    for imagen in imagenes:\n",
        "        fd = hog(imagen, orientations=9, pixels_per_cell=(8, 8),\n",
        "                 cells_per_block=(2, 2), block_norm='L2-Hys')\n",
        "        caracteristicas.append(fd)\n",
        "    return np.array(caracteristicas)"
      ]
    },
    {
      "cell_type": "code",
      "execution_count": 203,
      "metadata": {
        "id": "eDzIJ_FDZye0"
      },
      "outputs": [],
      "source": [
        "\n",
        "# Rutas a los directorios\n",
        "#base_dir = '/content/drive/MyDrive/Navegacion_autonoma/ECI-DATCOM-UGR_Deteccion_peatones-master/data'\n",
        "base_dir = './data'\n",
        "carpeta_entrenamiento_peatones = os.path.join(base_dir, 'train/pedestrians')\n",
        "carpeta_entrenamiento_fondo = os.path.join(base_dir, 'train/background')\n",
        "carpeta_prueba_peatones = os.path.join(base_dir, 'test/pedestrians')\n",
        "carpeta_prueba_fondo = os.path.join(base_dir, 'test/background')\n",
        "\n",
        "# Cargar imágenes de entrenamiento y prueba\n",
        "imagenes_entrenamiento_positivas = cargar_imagenes_desde_carpeta(carpeta_entrenamiento_peatones)\n",
        "imagenes_entrenamiento_negativas = cargar_imagenes_desde_carpeta(carpeta_entrenamiento_fondo)\n",
        "imagenes_prueba_positivas = cargar_imagenes_desde_carpeta(carpeta_prueba_peatones)\n",
        "imagenes_prueba_negativas = cargar_imagenes_desde_carpeta(carpeta_prueba_fondo)\n",
        "\n",
        "\n",
        "\n",
        "\n"
      ]
    },
    {
      "cell_type": "code",
      "execution_count": null,
      "metadata": {
        "colab": {
          "base_uri": "https://localhost:8080/"
        },
        "id": "qufsGsHYewbT",
        "outputId": "d44dd940-18f2-491c-dc6b-a3a536ef94ba"
      },
      "outputs": [],
      "source": [
        "# Imprimir la cantidad de imágenes cargadas\n",
        "print(f\"Imágenes de entrenamiento positivas: {len(imagenes_entrenamiento_positivas)}\")\n",
        "print(f\"Imágenes de entrenamiento negativas: {len(imagenes_entrenamiento_negativas)}\")\n",
        "print(f\"Imágenes de prueba positivas: {len(imagenes_prueba_positivas)}\")\n",
        "print(f\"Imágenes de prueba negativas: {len(imagenes_prueba_negativas)}\")\n"
      ]
    },
    {
      "cell_type": "code",
      "execution_count": 205,
      "metadata": {
        "id": "EzmhdEOwC4ce"
      },
      "outputs": [],
      "source": [
        "# Etiquetas (1 para peatones, 0 para fondo)\n",
        "etiquetas_entrenamiento_positivas = [1] * len(imagenes_entrenamiento_positivas)\n",
        "etiquetas_entrenamiento_negativas = [0] * len(imagenes_entrenamiento_negativas)\n",
        "etiquetas_prueba_positivas = [1] * len(imagenes_prueba_positivas)\n",
        "etiquetas_prueba_negativas = [0] * len(imagenes_prueba_negativas)\n",
        "\n",
        "# Combinar imágenes y etiquetas de entrenamiento y prueba\n",
        "imagenes_entrenamiento = imagenes_entrenamiento_positivas + imagenes_entrenamiento_negativas\n",
        "etiquetas_entrenamiento = etiquetas_entrenamiento_positivas + etiquetas_entrenamiento_negativas\n",
        "imagenes_prueba = imagenes_prueba_positivas + imagenes_prueba_negativas\n",
        "etiquetas_prueba = etiquetas_prueba_positivas + etiquetas_prueba_negativas\n"
      ]
    },
    {
      "cell_type": "code",
      "execution_count": 206,
      "metadata": {
        "colab": {
          "base_uri": "https://localhost:8080/"
        },
        "id": "O9XGvLHdDJgd",
        "outputId": "07606060-b65b-4c44-f329-ee86f4116264"
      },
      "outputs": [
        {
          "name": "stdout",
          "output_type": "stream",
          "text": [
            "Exactitud: 96.00%\n",
            "Precisión: 96.53%\n",
            "Sensibilidad (Recall): 94.60%\n",
            "Puntuación F1: 95.56%\n",
            "Matriz de confusión:\n",
            "[[583  17]\n",
            " [ 27 473]]\n"
          ]
        }
      ],
      "source": [
        "# Extraer características HOG\n",
        "caracteristicas_entrenamiento = extraer_caracteristicas_hog(imagenes_entrenamiento)\n",
        "caracteristicas_prueba = extraer_caracteristicas_hog(imagenes_prueba)\n",
        "\n",
        "# Entrenar el modelo SVM\n",
        "modelo_svm = LinearSVC()\n",
        "\n",
        "param_grid = {\n",
        "    'C': [0.1, 1, 10],\n",
        "    'penalty': ['l1', 'l2'],\n",
        "    'loss': ['hinge', 'squared_hinge'],\n",
        "    'dual': [False],  # Cambiar dual=True a dual=False\n",
        "    'multi_class': ['ovr', 'crammer_singer'],\n",
        "    'fit_intercept': [True, False]\n",
        "}\n",
        "\n",
        "grid_search = GridSearchCV(estimator=modelo_svm, param_grid=param_grid, cv=5, n_jobs=-1)\n",
        "\n",
        "grid_search.fit(caracteristicas_entrenamiento, etiquetas_entrenamiento)\n",
        "\n",
        "modelo_svm = LinearSVC(grid_search.best_params_)\n",
        "\n",
        "modelo_svm.fit(caracteristicas_entrenamiento, etiquetas_entrenamiento)\n",
        "\n",
        "# Predecir en el conjunto de prueba\n",
        "predicciones_prueba = modelo_svm.predict(caracteristicas_prueba)\n",
        "\n",
        "# Evaluar el modelo\n",
        "exactitud = accuracy_score(etiquetas_prueba, predicciones_prueba)\n",
        "precision = precision_score(etiquetas_prueba, predicciones_prueba)\n",
        "recall = recall_score(etiquetas_prueba, predicciones_prueba)\n",
        "f1 = f1_score(etiquetas_prueba, predicciones_prueba)\n",
        "matriz_confusion = confusion_matrix(etiquetas_prueba, predicciones_prueba)\n",
        "\n",
        "print(f\"Exactitud: {exactitud * 100:.2f}%\")\n",
        "print(f\"Precisión: {precision * 100:.2f}%\")\n",
        "print(f\"Sensibilidad (Recall): {recall * 100:.2f}%\")\n",
        "print(f\"Puntuación F1: {f1 * 100:.2f}%\")\n",
        "print(\"Matriz de confusión:\")\n",
        "print(matriz_confusion)"
      ]
    },
    {
      "cell_type": "code",
      "execution_count": 208,
      "metadata": {
        "colab": {
          "base_uri": "https://localhost:8080/",
          "height": 564
        },
        "id": "X3YWoF4yDNKL",
        "outputId": "908ddd44-9c64-48a5-dc33-2b993ccf6bb0"
      },
      "outputs": [
        {
          "data": {
            "image/png": "[encoded data removed]",
            "text/plain": [
              "<Figure size 800x600 with 2 Axes>"
            ]
          },
          "metadata": {},
          "output_type": "display_data"
        }
      ],
      "source": [
        "# Visualizar la matriz de confusión\n",
        "plt.figure(figsize=(8, 6))\n",
        "sns.heatmap(matriz_confusion, annot=True, fmt='d', cmap='Blues', xticklabels=['Fondo', 'Peatón'], yticklabels=['Fondo', 'Peatón'])\n",
        "plt.xlabel('Predicción')\n",
        "plt.ylabel('Real')\n",
        "plt.title('Matriz de Confusión')\n",
        "plt.show()"
      ]
    }
  ],
  "metadata": {
    "colab": {
      "provenance": []
    },
    "kernelspec": {
      "display_name": "Python 3",
      "language": "python",
      "name": "python3"
    },
    "language_info": {
      "codemirror_mode": {
        "name": "ipython",
        "version": 3
      },
      "file_extension": ".py",
      "mimetype": "text/x-python",
      "name": "python",
      "nbconvert_exporter": "python",
      "pygments_lexer": "ipython3",
      "version": "3.11.7"
    }
  },
  "nbformat": 4,
  "nbformat_minor": 0
}
